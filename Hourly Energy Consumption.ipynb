{
 "cells": [
  {
   "cell_type": "markdown",
   "metadata": {},
   "source": [
    "# Data Analysis Over 10 years of hourly energy consumption data from PJM in Megawatts"
   ]
  },
  {
   "cell_type": "markdown",
   "metadata": {},
   "source": [
    "## Step 1:"
   ]
  },
  {
   "cell_type": "markdown",
   "metadata": {},
   "source": [
    "#### Import Library"
   ]
  },
  {
   "cell_type": "code",
   "execution_count": 1,
   "metadata": {},
   "outputs": [],
   "source": [
    "import pandas as pd\n",
    "import numpy as np\n",
    "import seaborn as sns\n",
    "import matplotlib.pyplot as plt\n",
    "import os\n",
    "import datetime"
   ]
  },
  {
   "cell_type": "markdown",
   "metadata": {},
   "source": [
    "## Step 2:"
   ]
  },
  {
   "cell_type": "markdown",
   "metadata": {},
   "source": [
    "#### Read the DataSet"
   ]
  },
  {
   "cell_type": "code",
   "execution_count": 2,
   "metadata": {},
   "outputs": [
    {
     "data": {
      "text/html": [
       "<div>\n",
       "<style scoped>\n",
       "    .dataframe tbody tr th:only-of-type {\n",
       "        vertical-align: middle;\n",
       "    }\n",
       "\n",
       "    .dataframe tbody tr th {\n",
       "        vertical-align: top;\n",
       "    }\n",
       "\n",
       "    .dataframe thead th {\n",
       "        text-align: right;\n",
       "    }\n",
       "</style>\n",
       "<table border=\"1\" class=\"dataframe\">\n",
       "  <thead>\n",
       "    <tr style=\"text-align: right;\">\n",
       "      <th></th>\n",
       "      <th>Datetime</th>\n",
       "      <th>AEP_MW</th>\n",
       "    </tr>\n",
       "  </thead>\n",
       "  <tbody>\n",
       "    <tr>\n",
       "      <th>0</th>\n",
       "      <td>2004-12-31 01:00:00</td>\n",
       "      <td>13478.0</td>\n",
       "    </tr>\n",
       "    <tr>\n",
       "      <th>1</th>\n",
       "      <td>2004-12-31 02:00:00</td>\n",
       "      <td>12865.0</td>\n",
       "    </tr>\n",
       "    <tr>\n",
       "      <th>2</th>\n",
       "      <td>2004-12-31 03:00:00</td>\n",
       "      <td>12577.0</td>\n",
       "    </tr>\n",
       "    <tr>\n",
       "      <th>3</th>\n",
       "      <td>2004-12-31 04:00:00</td>\n",
       "      <td>12517.0</td>\n",
       "    </tr>\n",
       "    <tr>\n",
       "      <th>4</th>\n",
       "      <td>2004-12-31 05:00:00</td>\n",
       "      <td>12670.0</td>\n",
       "    </tr>\n",
       "  </tbody>\n",
       "</table>\n",
       "</div>"
      ],
      "text/plain": [
       "              Datetime   AEP_MW\n",
       "0  2004-12-31 01:00:00  13478.0\n",
       "1  2004-12-31 02:00:00  12865.0\n",
       "2  2004-12-31 03:00:00  12577.0\n",
       "3  2004-12-31 04:00:00  12517.0\n",
       "4  2004-12-31 05:00:00  12670.0"
      ]
     },
     "execution_count": 2,
     "metadata": {},
     "output_type": "execute_result"
    }
   ],
   "source": [
    "df = pd.read_csv(\"AEP_hourly.csv\")\n",
    "df.head()"
   ]
  },
  {
   "cell_type": "code",
   "execution_count": 3,
   "metadata": {},
   "outputs": [
    {
     "name": "stdout",
     "output_type": "stream",
     "text": [
      "<class 'pandas.core.frame.DataFrame'>\n",
      "RangeIndex: 121273 entries, 0 to 121272\n",
      "Data columns (total 2 columns):\n",
      " #   Column    Non-Null Count   Dtype  \n",
      "---  ------    --------------   -----  \n",
      " 0   Datetime  121273 non-null  object \n",
      " 1   AEP_MW    121273 non-null  float64\n",
      "dtypes: float64(1), object(1)\n",
      "memory usage: 1.9+ MB\n"
     ]
    }
   ],
   "source": [
    "df.info()"
   ]
  },
  {
   "cell_type": "code",
   "execution_count": 4,
   "metadata": {
    "scrolled": true
   },
   "outputs": [
    {
     "data": {
      "text/html": [
       "<div>\n",
       "<style scoped>\n",
       "    .dataframe tbody tr th:only-of-type {\n",
       "        vertical-align: middle;\n",
       "    }\n",
       "\n",
       "    .dataframe tbody tr th {\n",
       "        vertical-align: top;\n",
       "    }\n",
       "\n",
       "    .dataframe thead th {\n",
       "        text-align: right;\n",
       "    }\n",
       "</style>\n",
       "<table border=\"1\" class=\"dataframe\">\n",
       "  <thead>\n",
       "    <tr style=\"text-align: right;\">\n",
       "      <th></th>\n",
       "      <th>AEP_MW</th>\n",
       "    </tr>\n",
       "  </thead>\n",
       "  <tbody>\n",
       "    <tr>\n",
       "      <th>count</th>\n",
       "      <td>121273.000000</td>\n",
       "    </tr>\n",
       "    <tr>\n",
       "      <th>mean</th>\n",
       "      <td>15499.513717</td>\n",
       "    </tr>\n",
       "    <tr>\n",
       "      <th>std</th>\n",
       "      <td>2591.399065</td>\n",
       "    </tr>\n",
       "    <tr>\n",
       "      <th>min</th>\n",
       "      <td>9581.000000</td>\n",
       "    </tr>\n",
       "    <tr>\n",
       "      <th>25%</th>\n",
       "      <td>13630.000000</td>\n",
       "    </tr>\n",
       "    <tr>\n",
       "      <th>50%</th>\n",
       "      <td>15310.000000</td>\n",
       "    </tr>\n",
       "    <tr>\n",
       "      <th>75%</th>\n",
       "      <td>17200.000000</td>\n",
       "    </tr>\n",
       "    <tr>\n",
       "      <th>max</th>\n",
       "      <td>25695.000000</td>\n",
       "    </tr>\n",
       "  </tbody>\n",
       "</table>\n",
       "</div>"
      ],
      "text/plain": [
       "              AEP_MW\n",
       "count  121273.000000\n",
       "mean    15499.513717\n",
       "std      2591.399065\n",
       "min      9581.000000\n",
       "25%     13630.000000\n",
       "50%     15310.000000\n",
       "75%     17200.000000\n",
       "max     25695.000000"
      ]
     },
     "execution_count": 4,
     "metadata": {},
     "output_type": "execute_result"
    }
   ],
   "source": [
    "df.describe()"
   ]
  },
  {
   "cell_type": "markdown",
   "metadata": {},
   "source": [
    "## Step 3:"
   ]
  },
  {
   "cell_type": "markdown",
   "metadata": {},
   "source": [
    "#### seperate date and time "
   ]
  },
  {
   "cell_type": "code",
   "execution_count": 5,
   "metadata": {},
   "outputs": [],
   "source": [
    "df[\"New_Date\"] = pd.to_datetime(df[\"Datetime\"]).dt.date\n",
    "\n",
    "df[\"New_Time\"] = pd.to_datetime(df[\"Datetime\"]).dt.time\n"
   ]
  },
  {
   "cell_type": "code",
   "execution_count": 6,
   "metadata": {
    "scrolled": true
   },
   "outputs": [
    {
     "data": {
      "text/html": [
       "<div>\n",
       "<style scoped>\n",
       "    .dataframe tbody tr th:only-of-type {\n",
       "        vertical-align: middle;\n",
       "    }\n",
       "\n",
       "    .dataframe tbody tr th {\n",
       "        vertical-align: top;\n",
       "    }\n",
       "\n",
       "    .dataframe thead th {\n",
       "        text-align: right;\n",
       "    }\n",
       "</style>\n",
       "<table border=\"1\" class=\"dataframe\">\n",
       "  <thead>\n",
       "    <tr style=\"text-align: right;\">\n",
       "      <th></th>\n",
       "      <th>Datetime</th>\n",
       "      <th>AEP_MW</th>\n",
       "      <th>New_Date</th>\n",
       "      <th>New_Time</th>\n",
       "    </tr>\n",
       "  </thead>\n",
       "  <tbody>\n",
       "    <tr>\n",
       "      <th>0</th>\n",
       "      <td>2004-12-31 01:00:00</td>\n",
       "      <td>13478.0</td>\n",
       "      <td>2004-12-31</td>\n",
       "      <td>01:00:00</td>\n",
       "    </tr>\n",
       "    <tr>\n",
       "      <th>1</th>\n",
       "      <td>2004-12-31 02:00:00</td>\n",
       "      <td>12865.0</td>\n",
       "      <td>2004-12-31</td>\n",
       "      <td>02:00:00</td>\n",
       "    </tr>\n",
       "    <tr>\n",
       "      <th>2</th>\n",
       "      <td>2004-12-31 03:00:00</td>\n",
       "      <td>12577.0</td>\n",
       "      <td>2004-12-31</td>\n",
       "      <td>03:00:00</td>\n",
       "    </tr>\n",
       "    <tr>\n",
       "      <th>3</th>\n",
       "      <td>2004-12-31 04:00:00</td>\n",
       "      <td>12517.0</td>\n",
       "      <td>2004-12-31</td>\n",
       "      <td>04:00:00</td>\n",
       "    </tr>\n",
       "    <tr>\n",
       "      <th>4</th>\n",
       "      <td>2004-12-31 05:00:00</td>\n",
       "      <td>12670.0</td>\n",
       "      <td>2004-12-31</td>\n",
       "      <td>05:00:00</td>\n",
       "    </tr>\n",
       "  </tbody>\n",
       "</table>\n",
       "</div>"
      ],
      "text/plain": [
       "              Datetime   AEP_MW    New_Date  New_Time\n",
       "0  2004-12-31 01:00:00  13478.0  2004-12-31  01:00:00\n",
       "1  2004-12-31 02:00:00  12865.0  2004-12-31  02:00:00\n",
       "2  2004-12-31 03:00:00  12577.0  2004-12-31  03:00:00\n",
       "3  2004-12-31 04:00:00  12517.0  2004-12-31  04:00:00\n",
       "4  2004-12-31 05:00:00  12670.0  2004-12-31  05:00:00"
      ]
     },
     "execution_count": 6,
     "metadata": {},
     "output_type": "execute_result"
    }
   ],
   "source": [
    "df1 = df\n",
    "df1.head()"
   ]
  },
  {
   "cell_type": "code",
   "execution_count": 7,
   "metadata": {},
   "outputs": [
    {
     "data": {
      "text/html": [
       "<div>\n",
       "<style scoped>\n",
       "    .dataframe tbody tr th:only-of-type {\n",
       "        vertical-align: middle;\n",
       "    }\n",
       "\n",
       "    .dataframe tbody tr th {\n",
       "        vertical-align: top;\n",
       "    }\n",
       "\n",
       "    .dataframe thead th {\n",
       "        text-align: right;\n",
       "    }\n",
       "</style>\n",
       "<table border=\"1\" class=\"dataframe\">\n",
       "  <thead>\n",
       "    <tr style=\"text-align: right;\">\n",
       "      <th></th>\n",
       "      <th>Datetime</th>\n",
       "      <th>AEP_MW</th>\n",
       "      <th>New_Date</th>\n",
       "      <th>New_Time</th>\n",
       "    </tr>\n",
       "  </thead>\n",
       "  <tbody>\n",
       "    <tr>\n",
       "      <th>121268</th>\n",
       "      <td>2018-01-01 20:00:00</td>\n",
       "      <td>21089.0</td>\n",
       "      <td>2018-01-01</td>\n",
       "      <td>20:00:00</td>\n",
       "    </tr>\n",
       "    <tr>\n",
       "      <th>121269</th>\n",
       "      <td>2018-01-01 21:00:00</td>\n",
       "      <td>20999.0</td>\n",
       "      <td>2018-01-01</td>\n",
       "      <td>21:00:00</td>\n",
       "    </tr>\n",
       "    <tr>\n",
       "      <th>121270</th>\n",
       "      <td>2018-01-01 22:00:00</td>\n",
       "      <td>20820.0</td>\n",
       "      <td>2018-01-01</td>\n",
       "      <td>22:00:00</td>\n",
       "    </tr>\n",
       "    <tr>\n",
       "      <th>121271</th>\n",
       "      <td>2018-01-01 23:00:00</td>\n",
       "      <td>20415.0</td>\n",
       "      <td>2018-01-01</td>\n",
       "      <td>23:00:00</td>\n",
       "    </tr>\n",
       "    <tr>\n",
       "      <th>121272</th>\n",
       "      <td>2018-01-02 00:00:00</td>\n",
       "      <td>19993.0</td>\n",
       "      <td>2018-01-02</td>\n",
       "      <td>00:00:00</td>\n",
       "    </tr>\n",
       "  </tbody>\n",
       "</table>\n",
       "</div>"
      ],
      "text/plain": [
       "                   Datetime   AEP_MW    New_Date  New_Time\n",
       "121268  2018-01-01 20:00:00  21089.0  2018-01-01  20:00:00\n",
       "121269  2018-01-01 21:00:00  20999.0  2018-01-01  21:00:00\n",
       "121270  2018-01-01 22:00:00  20820.0  2018-01-01  22:00:00\n",
       "121271  2018-01-01 23:00:00  20415.0  2018-01-01  23:00:00\n",
       "121272  2018-01-02 00:00:00  19993.0  2018-01-02  00:00:00"
      ]
     },
     "execution_count": 7,
     "metadata": {},
     "output_type": "execute_result"
    }
   ],
   "source": [
    "df1.tail()"
   ]
  },
  {
   "cell_type": "code",
   "execution_count": 8,
   "metadata": {},
   "outputs": [
    {
     "name": "stdout",
     "output_type": "stream",
     "text": [
      "<class 'pandas.core.frame.DataFrame'>\n",
      "RangeIndex: 121273 entries, 0 to 121272\n",
      "Data columns (total 4 columns):\n",
      " #   Column    Non-Null Count   Dtype  \n",
      "---  ------    --------------   -----  \n",
      " 0   Datetime  121273 non-null  object \n",
      " 1   AEP_MW    121273 non-null  float64\n",
      " 2   New_Date  121273 non-null  object \n",
      " 3   New_Time  121273 non-null  object \n",
      "dtypes: float64(1), object(3)\n",
      "memory usage: 3.7+ MB\n"
     ]
    }
   ],
   "source": [
    "df1.info()"
   ]
  },
  {
   "cell_type": "markdown",
   "metadata": {},
   "source": [
    "#  Step 4: "
   ]
  },
  {
   "cell_type": "markdown",
   "metadata": {},
   "source": [
    "###  When was the highest Energy Consumption and which Year "
   ]
  },
  {
   "cell_type": "markdown",
   "metadata": {},
   "source": [
    "#### Maximum "
   ]
  },
  {
   "cell_type": "code",
   "execution_count": 9,
   "metadata": {
    "scrolled": false
   },
   "outputs": [
    {
     "data": {
      "text/html": [
       "<div>\n",
       "<style scoped>\n",
       "    .dataframe tbody tr th:only-of-type {\n",
       "        vertical-align: middle;\n",
       "    }\n",
       "\n",
       "    .dataframe tbody tr th {\n",
       "        vertical-align: top;\n",
       "    }\n",
       "\n",
       "    .dataframe thead th {\n",
       "        text-align: right;\n",
       "    }\n",
       "</style>\n",
       "<table border=\"1\" class=\"dataframe\">\n",
       "  <thead>\n",
       "    <tr style=\"text-align: right;\">\n",
       "      <th></th>\n",
       "      <th>Datetime</th>\n",
       "      <th>AEP_MW</th>\n",
       "      <th>New_Date</th>\n",
       "      <th>New_Time</th>\n",
       "    </tr>\n",
       "  </thead>\n",
       "  <tbody>\n",
       "    <tr>\n",
       "      <th>30221</th>\n",
       "      <td>2008-10-20 14:00:00</td>\n",
       "      <td>25695.0</td>\n",
       "      <td>2008-10-20</td>\n",
       "      <td>14:00:00</td>\n",
       "    </tr>\n",
       "  </tbody>\n",
       "</table>\n",
       "</div>"
      ],
      "text/plain": [
       "                  Datetime   AEP_MW    New_Date  New_Time\n",
       "30221  2008-10-20 14:00:00  25695.0  2008-10-20  14:00:00"
      ]
     },
     "execution_count": 9,
     "metadata": {},
     "output_type": "execute_result"
    }
   ],
   "source": [
    "df1[df1[\"AEP_MW\"] == df[\"AEP_MW\"].max()]"
   ]
  },
  {
   "cell_type": "markdown",
   "metadata": {},
   "source": [
    "###  When was the lowest Energy Consumption and which Year ?\n",
    "\n",
    "#### Minimum"
   ]
  },
  {
   "cell_type": "code",
   "execution_count": 10,
   "metadata": {
    "scrolled": true
   },
   "outputs": [
    {
     "data": {
      "text/html": [
       "<div>\n",
       "<style scoped>\n",
       "    .dataframe tbody tr th:only-of-type {\n",
       "        vertical-align: middle;\n",
       "    }\n",
       "\n",
       "    .dataframe tbody tr th {\n",
       "        vertical-align: top;\n",
       "    }\n",
       "\n",
       "    .dataframe thead th {\n",
       "        text-align: right;\n",
       "    }\n",
       "</style>\n",
       "<table border=\"1\" class=\"dataframe\">\n",
       "  <thead>\n",
       "    <tr style=\"text-align: right;\">\n",
       "      <th></th>\n",
       "      <th>Datetime</th>\n",
       "      <th>AEP_MW</th>\n",
       "      <th>New_Date</th>\n",
       "      <th>New_Time</th>\n",
       "    </tr>\n",
       "  </thead>\n",
       "  <tbody>\n",
       "    <tr>\n",
       "      <th>100759</th>\n",
       "      <td>2016-10-02 05:00:00</td>\n",
       "      <td>9581.0</td>\n",
       "      <td>2016-10-02</td>\n",
       "      <td>05:00:00</td>\n",
       "    </tr>\n",
       "  </tbody>\n",
       "</table>\n",
       "</div>"
      ],
      "text/plain": [
       "                   Datetime  AEP_MW    New_Date  New_Time\n",
       "100759  2016-10-02 05:00:00  9581.0  2016-10-02  05:00:00"
      ]
     },
     "execution_count": 10,
     "metadata": {},
     "output_type": "execute_result"
    }
   ],
   "source": [
    "df1[df1[\"AEP_MW\"] == df[\"AEP_MW\"].min()]"
   ]
  },
  {
   "cell_type": "markdown",
   "metadata": {},
   "source": [
    "### Conclusion : From Step 4 we can say that Minimum Energy was Consumed during 2016-10-02\t at 05:00:00 and it was 9581.0 MW and Maximum was on 2008-10-20\t at 14:00:00 and was 25695.0 MW\n",
    " "
   ]
  },
  {
   "cell_type": "markdown",
   "metadata": {},
   "source": [
    "# Step 5:"
   ]
  },
  {
   "cell_type": "markdown",
   "metadata": {},
   "source": [
    "### Plot and  Data visualization "
   ]
  },
  {
   "cell_type": "code",
   "execution_count": 11,
   "metadata": {
    "scrolled": true
   },
   "outputs": [
    {
     "name": "stderr",
     "output_type": "stream",
     "text": [
      "C:\\Users\\Shree\\AppData\\Local\\Programs\\Python\\Python310\\lib\\site-packages\\seaborn\\distributions.py:2619: FutureWarning: `distplot` is a deprecated function and will be removed in a future version. Please adapt your code to use either `displot` (a figure-level function with similar flexibility) or `histplot` (an axes-level function for histograms).\n",
      "  warnings.warn(msg, FutureWarning)\n"
     ]
    },
    {
     "data": {
      "text/plain": [
       "<AxesSubplot:xlabel='AEP_MW', ylabel='Density'>"
      ]
     },
     "execution_count": 11,
     "metadata": {},
     "output_type": "execute_result"
    },
    {
     "data": {
      "image/png": "[encoded data removed]",
      "text/plain": [
       "<Figure size 432x288 with 1 Axes>"
      ]
     },
     "metadata": {
      "needs_background": "light"
     },
     "output_type": "display_data"
    }
   ],
   "source": [
    "sns.distplot(df1[\"AEP_MW\"])"
   ]
  },
  {
   "cell_type": "markdown",
   "metadata": {},
   "source": [
    "# Step 7: Extract Date and Time "
   ]
  },
  {
   "cell_type": "code",
   "execution_count": 9,
   "metadata": {},
   "outputs": [
    {
     "data": {
      "text/html": [
       "<div>\n",
       "<style scoped>\n",
       "    .dataframe tbody tr th:only-of-type {\n",
       "        vertical-align: middle;\n",
       "    }\n",
       "\n",
       "    .dataframe tbody tr th {\n",
       "        vertical-align: top;\n",
       "    }\n",
       "\n",
       "    .dataframe thead th {\n",
       "        text-align: right;\n",
       "    }\n",
       "</style>\n",
       "<table border=\"1\" class=\"dataframe\">\n",
       "  <thead>\n",
       "    <tr style=\"text-align: right;\">\n",
       "      <th></th>\n",
       "      <th>Datetime</th>\n",
       "      <th>AEP_MW</th>\n",
       "      <th>New_Date</th>\n",
       "      <th>New_Time</th>\n",
       "    </tr>\n",
       "  </thead>\n",
       "  <tbody>\n",
       "    <tr>\n",
       "      <th>0</th>\n",
       "      <td>2004-12-31 01:00:00</td>\n",
       "      <td>13478.0</td>\n",
       "      <td>2004-12-31</td>\n",
       "      <td>01:00:00</td>\n",
       "    </tr>\n",
       "    <tr>\n",
       "      <th>1</th>\n",
       "      <td>2004-12-31 02:00:00</td>\n",
       "      <td>12865.0</td>\n",
       "      <td>2004-12-31</td>\n",
       "      <td>02:00:00</td>\n",
       "    </tr>\n",
       "    <tr>\n",
       "      <th>2</th>\n",
       "      <td>2004-12-31 03:00:00</td>\n",
       "      <td>12577.0</td>\n",
       "      <td>2004-12-31</td>\n",
       "      <td>03:00:00</td>\n",
       "    </tr>\n",
       "    <tr>\n",
       "      <th>3</th>\n",
       "      <td>2004-12-31 04:00:00</td>\n",
       "      <td>12517.0</td>\n",
       "      <td>2004-12-31</td>\n",
       "      <td>04:00:00</td>\n",
       "    </tr>\n",
       "    <tr>\n",
       "      <th>4</th>\n",
       "      <td>2004-12-31 05:00:00</td>\n",
       "      <td>12670.0</td>\n",
       "      <td>2004-12-31</td>\n",
       "      <td>05:00:00</td>\n",
       "    </tr>\n",
       "  </tbody>\n",
       "</table>\n",
       "</div>"
      ],
      "text/plain": [
       "              Datetime   AEP_MW    New_Date  New_Time\n",
       "0  2004-12-31 01:00:00  13478.0  2004-12-31  01:00:00\n",
       "1  2004-12-31 02:00:00  12865.0  2004-12-31  02:00:00\n",
       "2  2004-12-31 03:00:00  12577.0  2004-12-31  03:00:00\n",
       "3  2004-12-31 04:00:00  12517.0  2004-12-31  04:00:00\n",
       "4  2004-12-31 05:00:00  12670.0  2004-12-31  05:00:00"
      ]
     },
     "execution_count": 9,
     "metadata": {},
     "output_type": "execute_result"
    }
   ],
   "source": [
    "df1.head()"
   ]
  },
  {
   "cell_type": "code",
   "execution_count": 10,
   "metadata": {},
   "outputs": [],
   "source": [
    "df1[\"Year\"] = pd.DatetimeIndex(df['New_Date']).year"
   ]
  },
  {
   "cell_type": "code",
   "execution_count": 11,
   "metadata": {},
   "outputs": [
    {
     "data": {
      "text/html": [
       "<div>\n",
       "<style scoped>\n",
       "    .dataframe tbody tr th:only-of-type {\n",
       "        vertical-align: middle;\n",
       "    }\n",
       "\n",
       "    .dataframe tbody tr th {\n",
       "        vertical-align: top;\n",
       "    }\n",
       "\n",
       "    .dataframe thead th {\n",
       "        text-align: right;\n",
       "    }\n",
       "</style>\n",
       "<table border=\"1\" class=\"dataframe\">\n",
       "  <thead>\n",
       "    <tr style=\"text-align: right;\">\n",
       "      <th></th>\n",
       "      <th>Datetime</th>\n",
       "      <th>AEP_MW</th>\n",
       "      <th>New_Date</th>\n",
       "      <th>New_Time</th>\n",
       "      <th>Year</th>\n",
       "    </tr>\n",
       "  </thead>\n",
       "  <tbody>\n",
       "    <tr>\n",
       "      <th>0</th>\n",
       "      <td>2004-12-31 01:00:00</td>\n",
       "      <td>13478.0</td>\n",
       "      <td>2004-12-31</td>\n",
       "      <td>01:00:00</td>\n",
       "      <td>2004</td>\n",
       "    </tr>\n",
       "    <tr>\n",
       "      <th>1</th>\n",
       "      <td>2004-12-31 02:00:00</td>\n",
       "      <td>12865.0</td>\n",
       "      <td>2004-12-31</td>\n",
       "      <td>02:00:00</td>\n",
       "      <td>2004</td>\n",
       "    </tr>\n",
       "    <tr>\n",
       "      <th>2</th>\n",
       "      <td>2004-12-31 03:00:00</td>\n",
       "      <td>12577.0</td>\n",
       "      <td>2004-12-31</td>\n",
       "      <td>03:00:00</td>\n",
       "      <td>2004</td>\n",
       "    </tr>\n",
       "    <tr>\n",
       "      <th>3</th>\n",
       "      <td>2004-12-31 04:00:00</td>\n",
       "      <td>12517.0</td>\n",
       "      <td>2004-12-31</td>\n",
       "      <td>04:00:00</td>\n",
       "      <td>2004</td>\n",
       "    </tr>\n",
       "    <tr>\n",
       "      <th>4</th>\n",
       "      <td>2004-12-31 05:00:00</td>\n",
       "      <td>12670.0</td>\n",
       "      <td>2004-12-31</td>\n",
       "      <td>05:00:00</td>\n",
       "      <td>2004</td>\n",
       "    </tr>\n",
       "    <tr>\n",
       "      <th>5</th>\n",
       "      <td>2004-12-31 06:00:00</td>\n",
       "      <td>13038.0</td>\n",
       "      <td>2004-12-31</td>\n",
       "      <td>06:00:00</td>\n",
       "      <td>2004</td>\n",
       "    </tr>\n",
       "    <tr>\n",
       "      <th>6</th>\n",
       "      <td>2004-12-31 07:00:00</td>\n",
       "      <td>13692.0</td>\n",
       "      <td>2004-12-31</td>\n",
       "      <td>07:00:00</td>\n",
       "      <td>2004</td>\n",
       "    </tr>\n",
       "    <tr>\n",
       "      <th>7</th>\n",
       "      <td>2004-12-31 08:00:00</td>\n",
       "      <td>14297.0</td>\n",
       "      <td>2004-12-31</td>\n",
       "      <td>08:00:00</td>\n",
       "      <td>2004</td>\n",
       "    </tr>\n",
       "    <tr>\n",
       "      <th>8</th>\n",
       "      <td>2004-12-31 09:00:00</td>\n",
       "      <td>14719.0</td>\n",
       "      <td>2004-12-31</td>\n",
       "      <td>09:00:00</td>\n",
       "      <td>2004</td>\n",
       "    </tr>\n",
       "    <tr>\n",
       "      <th>9</th>\n",
       "      <td>2004-12-31 10:00:00</td>\n",
       "      <td>14941.0</td>\n",
       "      <td>2004-12-31</td>\n",
       "      <td>10:00:00</td>\n",
       "      <td>2004</td>\n",
       "    </tr>\n",
       "    <tr>\n",
       "      <th>10</th>\n",
       "      <td>2004-12-31 11:00:00</td>\n",
       "      <td>15184.0</td>\n",
       "      <td>2004-12-31</td>\n",
       "      <td>11:00:00</td>\n",
       "      <td>2004</td>\n",
       "    </tr>\n",
       "    <tr>\n",
       "      <th>11</th>\n",
       "      <td>2004-12-31 12:00:00</td>\n",
       "      <td>15009.0</td>\n",
       "      <td>2004-12-31</td>\n",
       "      <td>12:00:00</td>\n",
       "      <td>2004</td>\n",
       "    </tr>\n",
       "    <tr>\n",
       "      <th>12</th>\n",
       "      <td>2004-12-31 13:00:00</td>\n",
       "      <td>14808.0</td>\n",
       "      <td>2004-12-31</td>\n",
       "      <td>13:00:00</td>\n",
       "      <td>2004</td>\n",
       "    </tr>\n",
       "    <tr>\n",
       "      <th>13</th>\n",
       "      <td>2004-12-31 14:00:00</td>\n",
       "      <td>14522.0</td>\n",
       "      <td>2004-12-31</td>\n",
       "      <td>14:00:00</td>\n",
       "      <td>2004</td>\n",
       "    </tr>\n",
       "    <tr>\n",
       "      <th>14</th>\n",
       "      <td>2004-12-31 15:00:00</td>\n",
       "      <td>14349.0</td>\n",
       "      <td>2004-12-31</td>\n",
       "      <td>15:00:00</td>\n",
       "      <td>2004</td>\n",
       "    </tr>\n",
       "    <tr>\n",
       "      <th>15</th>\n",
       "      <td>2004-12-31 16:00:00</td>\n",
       "      <td>14107.0</td>\n",
       "      <td>2004-12-31</td>\n",
       "      <td>16:00:00</td>\n",
       "      <td>2004</td>\n",
       "    </tr>\n",
       "    <tr>\n",
       "      <th>16</th>\n",
       "      <td>2004-12-31 17:00:00</td>\n",
       "      <td>14410.0</td>\n",
       "      <td>2004-12-31</td>\n",
       "      <td>17:00:00</td>\n",
       "      <td>2004</td>\n",
       "    </tr>\n",
       "    <tr>\n",
       "      <th>17</th>\n",
       "      <td>2004-12-31 18:00:00</td>\n",
       "      <td>15174.0</td>\n",
       "      <td>2004-12-31</td>\n",
       "      <td>18:00:00</td>\n",
       "      <td>2004</td>\n",
       "    </tr>\n",
       "    <tr>\n",
       "      <th>18</th>\n",
       "      <td>2004-12-31 19:00:00</td>\n",
       "      <td>15261.0</td>\n",
       "      <td>2004-12-31</td>\n",
       "      <td>19:00:00</td>\n",
       "      <td>2004</td>\n",
       "    </tr>\n",
       "    <tr>\n",
       "      <th>19</th>\n",
       "      <td>2004-12-31 20:00:00</td>\n",
       "      <td>14774.0</td>\n",
       "      <td>2004-12-31</td>\n",
       "      <td>20:00:00</td>\n",
       "      <td>2004</td>\n",
       "    </tr>\n",
       "    <tr>\n",
       "      <th>20</th>\n",
       "      <td>2004-12-31 21:00:00</td>\n",
       "      <td>14363.0</td>\n",
       "      <td>2004-12-31</td>\n",
       "      <td>21:00:00</td>\n",
       "      <td>2004</td>\n",
       "    </tr>\n",
       "    <tr>\n",
       "      <th>21</th>\n",
       "      <td>2004-12-31 22:00:00</td>\n",
       "      <td>14045.0</td>\n",
       "      <td>2004-12-31</td>\n",
       "      <td>22:00:00</td>\n",
       "      <td>2004</td>\n",
       "    </tr>\n",
       "    <tr>\n",
       "      <th>22</th>\n",
       "      <td>2004-12-31 23:00:00</td>\n",
       "      <td>13478.0</td>\n",
       "      <td>2004-12-31</td>\n",
       "      <td>23:00:00</td>\n",
       "      <td>2004</td>\n",
       "    </tr>\n",
       "    <tr>\n",
       "      <th>23</th>\n",
       "      <td>2005-01-01 00:00:00</td>\n",
       "      <td>12892.0</td>\n",
       "      <td>2005-01-01</td>\n",
       "      <td>00:00:00</td>\n",
       "      <td>2005</td>\n",
       "    </tr>\n",
       "    <tr>\n",
       "      <th>24</th>\n",
       "      <td>2004-12-30 01:00:00</td>\n",
       "      <td>14097.0</td>\n",
       "      <td>2004-12-30</td>\n",
       "      <td>01:00:00</td>\n",
       "      <td>2004</td>\n",
       "    </tr>\n",
       "    <tr>\n",
       "      <th>25</th>\n",
       "      <td>2004-12-30 02:00:00</td>\n",
       "      <td>13667.0</td>\n",
       "      <td>2004-12-30</td>\n",
       "      <td>02:00:00</td>\n",
       "      <td>2004</td>\n",
       "    </tr>\n",
       "    <tr>\n",
       "      <th>26</th>\n",
       "      <td>2004-12-30 03:00:00</td>\n",
       "      <td>13451.0</td>\n",
       "      <td>2004-12-30</td>\n",
       "      <td>03:00:00</td>\n",
       "      <td>2004</td>\n",
       "    </tr>\n",
       "    <tr>\n",
       "      <th>27</th>\n",
       "      <td>2004-12-30 04:00:00</td>\n",
       "      <td>13379.0</td>\n",
       "      <td>2004-12-30</td>\n",
       "      <td>04:00:00</td>\n",
       "      <td>2004</td>\n",
       "    </tr>\n",
       "    <tr>\n",
       "      <th>28</th>\n",
       "      <td>2004-12-30 05:00:00</td>\n",
       "      <td>13506.0</td>\n",
       "      <td>2004-12-30</td>\n",
       "      <td>05:00:00</td>\n",
       "      <td>2004</td>\n",
       "    </tr>\n",
       "    <tr>\n",
       "      <th>29</th>\n",
       "      <td>2004-12-30 06:00:00</td>\n",
       "      <td>14121.0</td>\n",
       "      <td>2004-12-30</td>\n",
       "      <td>06:00:00</td>\n",
       "      <td>2004</td>\n",
       "    </tr>\n",
       "  </tbody>\n",
       "</table>\n",
       "</div>"
      ],
      "text/plain": [
       "               Datetime   AEP_MW    New_Date  New_Time  Year\n",
       "0   2004-12-31 01:00:00  13478.0  2004-12-31  01:00:00  2004\n",
       "1   2004-12-31 02:00:00  12865.0  2004-12-31  02:00:00  2004\n",
       "2   2004-12-31 03:00:00  12577.0  2004-12-31  03:00:00  2004\n",
       "3   2004-12-31 04:00:00  12517.0  2004-12-31  04:00:00  2004\n",
       "4   2004-12-31 05:00:00  12670.0  2004-12-31  05:00:00  2004\n",
       "5   2004-12-31 06:00:00  13038.0  2004-12-31  06:00:00  2004\n",
       "6   2004-12-31 07:00:00  13692.0  2004-12-31  07:00:00  2004\n",
       "7   2004-12-31 08:00:00  14297.0  2004-12-31  08:00:00  2004\n",
       "8   2004-12-31 09:00:00  14719.0  2004-12-31  09:00:00  2004\n",
       "9   2004-12-31 10:00:00  14941.0  2004-12-31  10:00:00  2004\n",
       "10  2004-12-31 11:00:00  15184.0  2004-12-31  11:00:00  2004\n",
       "11  2004-12-31 12:00:00  15009.0  2004-12-31  12:00:00  2004\n",
       "12  2004-12-31 13:00:00  14808.0  2004-12-31  13:00:00  2004\n",
       "13  2004-12-31 14:00:00  14522.0  2004-12-31  14:00:00  2004\n",
       "14  2004-12-31 15:00:00  14349.0  2004-12-31  15:00:00  2004\n",
       "15  2004-12-31 16:00:00  14107.0  2004-12-31  16:00:00  2004\n",
       "16  2004-12-31 17:00:00  14410.0  2004-12-31  17:00:00  2004\n",
       "17  2004-12-31 18:00:00  15174.0  2004-12-31  18:00:00  2004\n",
       "18  2004-12-31 19:00:00  15261.0  2004-12-31  19:00:00  2004\n",
       "19  2004-12-31 20:00:00  14774.0  2004-12-31  20:00:00  2004\n",
       "20  2004-12-31 21:00:00  14363.0  2004-12-31  21:00:00  2004\n",
       "21  2004-12-31 22:00:00  14045.0  2004-12-31  22:00:00  2004\n",
       "22  2004-12-31 23:00:00  13478.0  2004-12-31  23:00:00  2004\n",
       "23  2005-01-01 00:00:00  12892.0  2005-01-01  00:00:00  2005\n",
       "24  2004-12-30 01:00:00  14097.0  2004-12-30  01:00:00  2004\n",
       "25  2004-12-30 02:00:00  13667.0  2004-12-30  02:00:00  2004\n",
       "26  2004-12-30 03:00:00  13451.0  2004-12-30  03:00:00  2004\n",
       "27  2004-12-30 04:00:00  13379.0  2004-12-30  04:00:00  2004\n",
       "28  2004-12-30 05:00:00  13506.0  2004-12-30  05:00:00  2004\n",
       "29  2004-12-30 06:00:00  14121.0  2004-12-30  06:00:00  2004"
      ]
     },
     "execution_count": 11,
     "metadata": {},
     "output_type": "execute_result"
    }
   ],
   "source": [
    "df1.head(30)"
   ]
  },
  {
   "cell_type": "markdown",
   "metadata": {},
   "source": [
    "### Check how many Years are Unique"
   ]
  },
  {
   "cell_type": "code",
   "execution_count": 12,
   "metadata": {},
   "outputs": [
    {
     "data": {
      "text/plain": [
       "array([2004, 2005, 2006, 2007, 2008, 2009, 2010, 2011, 2012, 2013, 2014,\n",
       "       2015, 2016, 2017, 2018], dtype=int64)"
      ]
     },
     "execution_count": 12,
     "metadata": {},
     "output_type": "execute_result"
    }
   ],
   "source": [
    "df1[\"Year\"].unique()#unique values from dataset"
   ]
  },
  {
   "cell_type": "markdown",
   "metadata": {},
   "source": [
    "#### This Tell us that there are 15 Unique Year from 2004 to 2018"
   ]
  },
  {
   "cell_type": "code",
   "execution_count": 16,
   "metadata": {
    "scrolled": true
   },
   "outputs": [
    {
     "data": {
      "text/plain": [
       "Datetime    8758\n",
       "AEP_MW      5601\n",
       "New_Date     365\n",
       "New_Time      24\n",
       "Year           1\n",
       "dtype: int64"
      ]
     },
     "execution_count": 16,
     "metadata": {},
     "output_type": "execute_result"
    }
   ],
   "source": [
    "df1[df1[\"Year\"] == 2013].nunique()  #number unique values in year 2013"
   ]
  },
  {
   "cell_type": "code",
   "execution_count": 17,
   "metadata": {},
   "outputs": [
    {
     "data": {
      "text/plain": [
       "Datetime    121269\n",
       "AEP_MW       12643\n",
       "New_Date      5055\n",
       "New_Time        24\n",
       "Year            15\n",
       "dtype: int64"
      ]
     },
     "execution_count": 17,
     "metadata": {},
     "output_type": "execute_result"
    }
   ],
   "source": [
    "df1.nunique() #number unique values from entire dataset"
   ]
  },
  {
   "cell_type": "markdown",
   "metadata": {},
   "source": [
    "## Show the Relationship of Energy vs Year"
   ]
  },
  {
   "cell_type": "code",
   "execution_count": 20,
   "metadata": {
    "scrolled": true
   },
   "outputs": [
    {
     "data": {
      "text/plain": [
       "<AxesSubplot:xlabel='Year', ylabel='AEP_MW'>"
      ]
     },
     "execution_count": 20,
     "metadata": {},
     "output_type": "execute_result"
    },
    {
     "data": {
      "image/png": "[encoded data removed]",
      "text/plain": [
       "<Figure size 432x288 with 1 Axes>"
      ]
     },
     "metadata": {
      "needs_background": "light"
     },
     "output_type": "display_data"
    }
   ],
   "source": [
    "sns.lineplot(x=df1[\"Year\"], y=df1[\"AEP_MW\"],  data = df1)#plt.plot"
   ]
  },
  {
   "cell_type": "markdown",
   "metadata": {},
   "source": [
    "### Regression"
   ]
  },
  {
   "cell_type": "code",
   "execution_count": 21,
   "metadata": {},
   "outputs": [
    {
     "data": {
      "text/plain": [
       "<seaborn.axisgrid.JointGrid at 0x1adb1c2ff70>"
      ]
     },
     "execution_count": 21,
     "metadata": {},
     "output_type": "execute_result"
    },
    {
     "data": {
      "image/png": "[encoded data removed]",
      "text/plain": [
       "<Figure size 432x432 with 3 Axes>"
      ]
     },
     "metadata": {
      "needs_background": "light"
     },
     "output_type": "display_data"
    }
   ],
   "source": [
    "sns.jointplot(x=df1[\"Year\"],\n",
    "              y=df1[\"AEP_MW\"],\n",
    "              data=df1,\n",
    "             kind=\"reg\")"
   ]
  },
  {
   "cell_type": "code",
   "execution_count": 22,
   "metadata": {
    "scrolled": false
   },
   "outputs": [
    {
     "data": {
      "text/plain": [
       "<seaborn.axisgrid.JointGrid at 0x1adb1c2df60>"
      ]
     },
     "execution_count": 22,
     "metadata": {},
     "output_type": "execute_result"
    },
    {
     "data": {
      "image/png": "[encoded data removed]",
      "text/plain": [
       "<Figure size 432x432 with 3 Axes>"
      ]
     },
     "metadata": {
      "needs_background": "light"
     },
     "output_type": "display_data"
    }
   ],
   "source": [
    "sns.jointplot(x=df1[\"Year\"],\n",
    "              y=df1[\"AEP_MW\"],\n",
    "              data=df1,\n",
    "             kind=\"kde\")#kde= kernel density estimation"
   ]
  },
  {
   "cell_type": "markdown",
   "metadata": {},
   "source": [
    "## Let us see the relation between Energy and Time"
   ]
  },
  {
   "cell_type": "code",
   "execution_count": 15,
   "metadata": {},
   "outputs": [
    {
     "data": {
      "text/plain": [
       "0         01:00:00\n",
       "1         02:00:00\n",
       "2         03:00:00\n",
       "3         04:00:00\n",
       "4         05:00:00\n",
       "            ...   \n",
       "121268    20:00:00\n",
       "121269    21:00:00\n",
       "121270    22:00:00\n",
       "121271    23:00:00\n",
       "121272    00:00:00\n",
       "Name: New_Time, Length: 121273, dtype: object"
      ]
     },
     "execution_count": 15,
     "metadata": {},
     "output_type": "execute_result"
    }
   ],
   "source": [
    "df1['New_Time']"
   ]
  },
  {
   "cell_type": "code",
   "execution_count": 13,
   "metadata": {},
   "outputs": [
    {
     "data": {
      "text/html": [
       "<div>\n",
       "<style scoped>\n",
       "    .dataframe tbody tr th:only-of-type {\n",
       "        vertical-align: middle;\n",
       "    }\n",
       "\n",
       "    .dataframe tbody tr th {\n",
       "        vertical-align: top;\n",
       "    }\n",
       "\n",
       "    .dataframe thead th {\n",
       "        text-align: right;\n",
       "    }\n",
       "</style>\n",
       "<table border=\"1\" class=\"dataframe\">\n",
       "  <thead>\n",
       "    <tr style=\"text-align: right;\">\n",
       "      <th></th>\n",
       "      <th>Datetime</th>\n",
       "      <th>AEP_MW</th>\n",
       "      <th>New_Date</th>\n",
       "      <th>New_Time</th>\n",
       "      <th>Year</th>\n",
       "      <th>Hour</th>\n",
       "    </tr>\n",
       "  </thead>\n",
       "  <tbody>\n",
       "    <tr>\n",
       "      <th>0</th>\n",
       "      <td>2004-12-31 01:00:00</td>\n",
       "      <td>13478.0</td>\n",
       "      <td>2004-12-31</td>\n",
       "      <td>01:00:00</td>\n",
       "      <td>2004</td>\n",
       "      <td>1</td>\n",
       "    </tr>\n",
       "    <tr>\n",
       "      <th>1</th>\n",
       "      <td>2004-12-31 02:00:00</td>\n",
       "      <td>12865.0</td>\n",
       "      <td>2004-12-31</td>\n",
       "      <td>02:00:00</td>\n",
       "      <td>2004</td>\n",
       "      <td>2</td>\n",
       "    </tr>\n",
       "    <tr>\n",
       "      <th>2</th>\n",
       "      <td>2004-12-31 03:00:00</td>\n",
       "      <td>12577.0</td>\n",
       "      <td>2004-12-31</td>\n",
       "      <td>03:00:00</td>\n",
       "      <td>2004</td>\n",
       "      <td>3</td>\n",
       "    </tr>\n",
       "    <tr>\n",
       "      <th>3</th>\n",
       "      <td>2004-12-31 04:00:00</td>\n",
       "      <td>12517.0</td>\n",
       "      <td>2004-12-31</td>\n",
       "      <td>04:00:00</td>\n",
       "      <td>2004</td>\n",
       "      <td>4</td>\n",
       "    </tr>\n",
       "    <tr>\n",
       "      <th>4</th>\n",
       "      <td>2004-12-31 05:00:00</td>\n",
       "      <td>12670.0</td>\n",
       "      <td>2004-12-31</td>\n",
       "      <td>05:00:00</td>\n",
       "      <td>2004</td>\n",
       "      <td>5</td>\n",
       "    </tr>\n",
       "  </tbody>\n",
       "</table>\n",
       "</div>"
      ],
      "text/plain": [
       "              Datetime   AEP_MW    New_Date  New_Time  Year  Hour\n",
       "0  2004-12-31 01:00:00  13478.0  2004-12-31  01:00:00  2004     1\n",
       "1  2004-12-31 02:00:00  12865.0  2004-12-31  02:00:00  2004     2\n",
       "2  2004-12-31 03:00:00  12577.0  2004-12-31  03:00:00  2004     3\n",
       "3  2004-12-31 04:00:00  12517.0  2004-12-31  04:00:00  2004     4\n",
       "4  2004-12-31 05:00:00  12670.0  2004-12-31  05:00:00  2004     5"
      ]
     },
     "execution_count": 13,
     "metadata": {},
     "output_type": "execute_result"
    }
   ],
   "source": [
    "df1[\"Hour\"] = pd.to_datetime(df1[\"Datetime\"]).dt.hour\n",
    "df1.head()"
   ]
  },
  {
   "cell_type": "code",
   "execution_count": 14,
   "metadata": {},
   "outputs": [
    {
     "data": {
      "text/plain": [
       "Hour\n",
       "0     74032471.0\n",
       "1     70207532.0\n",
       "2     67805054.0\n",
       "3     66447607.0\n",
       "4     66170012.0\n",
       "5     66917668.0\n",
       "6     69757337.0\n",
       "7     74706552.0\n",
       "8     78230008.0\n",
       "9     79967692.0\n",
       "10    81289971.0\n",
       "11    82412119.0\n",
       "12    82876387.0\n",
       "13    83278766.0\n",
       "14    83549638.0\n",
       "15    83354665.0\n",
       "16    83110534.0\n",
       "17    83603464.0\n",
       "18    84719899.0\n",
       "19    85254553.0\n",
       "20    85015028.0\n",
       "21    84724277.0\n",
       "22    83234162.0\n",
       "23    79007131.0\n",
       "Name: AEP_MW, dtype: float64"
      ]
     },
     "execution_count": 14,
     "metadata": {},
     "output_type": "execute_result"
    }
   ],
   "source": [
    "df1.groupby('Hour').sum()['AEP_MW']"
   ]
  },
  {
   "cell_type": "code",
   "execution_count": 28,
   "metadata": {},
   "outputs": [
    {
     "data": {
      "image/png": "[encoded data removed]",
      "text/plain": [
       "<Figure size 432x288 with 1 Axes>"
      ]
     },
     "metadata": {
      "needs_background": "light"
     },
     "output_type": "display_data"
    }
   ],
   "source": [
    "plt.plot(range(24), df1.groupby('Hour').sum()['AEP_MW'])\n",
    "plt.xticks(range(24))\n",
    "plt.grid()"
   ]
  },
  {
   "cell_type": "markdown",
   "metadata": {},
   "source": [
    "#### Questions to ask on data:\n",
    "\n",
    "\n",
    "\n",
    "__1)Which time energy requirement is larger?__\n",
    "\n",
    "__2)In which month energy requirement is increasing every year?__\n",
    "\n",
    "__3)Filter data of april 2010 month data__\n",
    "\n",
    "__4)Find energy and time relation for year 2008 and october month__\n"
   ]
  },
  {
   "cell_type": "code",
   "execution_count": null,
   "metadata": {},
   "outputs": [],
   "source": []
  }
 ],
 "metadata": {
  "kernelspec": {
   "display_name": "Python 3 (ipykernel)",
   "language": "python",
   "name": "python3"
  },
  "language_info": {
   "codemirror_mode": {
    "name": "ipython",
    "version": 3
   },
   "file_extension": ".py",
   "mimetype": "text/x-python",
   "name": "python",
   "nbconvert_exporter": "python",
   "pygments_lexer": "ipython3",
   "version": "3.10.2"
  }
 },
 "nbformat": 4,
 "nbformat_minor": 2
}
